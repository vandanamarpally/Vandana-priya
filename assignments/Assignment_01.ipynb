{
  "cells": [
    {
      "cell_type": "markdown",
      "metadata": {
        "id": "view-in-github",
        "colab_type": "text"
      },
      "source": [
        "<a href=\"https://colab.research.google.com/github/vandanamarpally/Vandana-priya/blob/main/assignments/Assignment_01.ipynb\" target=\"_parent\"><img src=\"https://colab.research.google.com/assets/colab-badge.svg\" alt=\"Open In Colab\"/></a>"
      ]
    },
    {
      "cell_type": "markdown",
      "id": "548b84c2-e24f-4a12-98bb-5e7bd5ec86bd",
      "metadata": {
        "id": "548b84c2-e24f-4a12-98bb-5e7bd5ec86bd"
      },
      "source": [
        "# Python"
      ]
    },
    {
      "cell_type": "markdown",
      "id": "99fbfc45-ba9e-4766-8219-f5dbcacc8481",
      "metadata": {
        "id": "99fbfc45-ba9e-4766-8219-f5dbcacc8481"
      },
      "source": [
        "<a target=\"_blank\" href=\"https://colab.research.google.com/github/kgsb24/rishi-college/blob/main/assignments/Assignment_01.ipynb\">\n",
        "  <img src=\"https://colab.research.google.com/assets/colab-badge.svg\" alt=\"Open In Colab\"/>\n",
        "</a>"
      ]
    },
    {
      "cell_type": "markdown",
      "id": "07a1f870-f905-4703-8b65-12e83172133a",
      "metadata": {
        "id": "07a1f870-f905-4703-8b65-12e83172133a"
      },
      "source": [
        "## Basic Python Fundamentals"
      ]
    },
    {
      "cell_type": "code",
      "execution_count": null,
      "id": "502e1d87-2fdd-4588-a330-2af21268215e",
      "metadata": {
        "id": "502e1d87-2fdd-4588-a330-2af21268215e",
        "outputId": "5d74bde3-2dd7-41b3-9b06-c2a6cd2ca056",
        "colab": {
          "base_uri": "https://localhost:8080/"
        }
      },
      "outputs": [
        {
          "output_type": "stream",
          "name": "stdout",
          "text": [
            "<class 'int'>\n"
          ]
        }
      ],
      "source": [
        "# Write a Python program to declare a variable x with the value 10 and print its type.\n",
        "x =10\n",
        "print(type(x))"
      ]
    },
    {
      "cell_type": "code",
      "execution_count": null,
      "id": "dae77579-4b7d-4f06-96e0-7bdfe43860d7",
      "metadata": {
        "id": "dae77579-4b7d-4f06-96e0-7bdfe43860d7",
        "outputId": "e6d1b0bf-6467-4ff8-b8c6-3834283ff936",
        "colab": {
          "base_uri": "https://localhost:8080/"
        }
      },
      "outputs": [
        {
          "output_type": "stream",
          "name": "stdout",
          "text": [
            "sum: 15\n"
          ]
        }
      ],
      "source": [
        "# Write a Python program to declare three variables a = 5, b = 10, and c = 15, and print their sum.\n",
        "a = 5\n",
        "b = 10\n",
        "c = 15\n",
        "print(\"sum:\",a+b)"
      ]
    },
    {
      "cell_type": "code",
      "execution_count": null,
      "id": "c32867b2-a615-426a-89ae-bd2793b6a4dc",
      "metadata": {
        "id": "c32867b2-a615-426a-89ae-bd2793b6a4dc",
        "outputId": "55d66f2f-e6fd-42bc-c1df-97a0f2396225",
        "colab": {
          "base_uri": "https://localhost:8080/"
        }
      },
      "outputs": [
        {
          "output_type": "stream",
          "name": "stdout",
          "text": [
            "<class 'str'>\n"
          ]
        }
      ],
      "source": [
        "# Write a Python program that checks and prints the type of a variable (e.g., int, float, str, etc.).\n",
        "x = \"Mango\"\n",
        "print(type(x))"
      ]
    },
    {
      "cell_type": "code",
      "execution_count": null,
      "id": "8b233e41-9d44-4869-9ead-afb3ff1c0b67",
      "metadata": {
        "id": "8b233e41-9d44-4869-9ead-afb3ff1c0b67",
        "outputId": "2f6f9d51-1fa4-47cd-e945-f8a2fe4a0a39",
        "colab": {
          "base_uri": "https://localhost:8080/"
        }
      },
      "outputs": [
        {
          "output_type": "stream",
          "name": "stdout",
          "text": [
            "Enter the number a:16\n",
            "Enter the number b:44\n",
            "Addition: 60\n",
            "Subtraction: -28\n",
            "Multiplication: 704\n",
            "Division: 0.36363636363636365\n"
          ]
        }
      ],
      "source": [
        "# Write a Python program to perform addition, subtraction, multiplication, and division on two numbers. (User input is required for the numbers)\n",
        "a=int(input(\"Enter the number a:\",))\n",
        "b=int(input(\"Enter the number b:\",))\n",
        "print(\"Addition:\",a+b)\n",
        "print(\"Subtraction:\",a-b)\n",
        "print(\"Multiplication:\",a*b)\n",
        "print(\"Division:\",a/b)"
      ]
    },
    {
      "cell_type": "code",
      "execution_count": null,
      "id": "629435bd-6bfa-44de-91d9-3b2937713257",
      "metadata": {
        "id": "629435bd-6bfa-44de-91d9-3b2937713257",
        "outputId": "d77f7c42-8b8d-4244-b452-ff3fc60fc454",
        "colab": {
          "base_uri": "https://localhost:8080/"
        }
      },
      "outputs": [
        {
          "output_type": "stream",
          "name": "stdout",
          "text": [
            "123\n",
            "123.0\n"
          ]
        }
      ],
      "source": [
        "# Write a Python program to convert a string \"123\" to an integer and a float and print the results.\n",
        "string = \"123\"\n",
        "print(int(string))\n",
        "print(float(string))"
      ]
    },
    {
      "cell_type": "code",
      "execution_count": null,
      "id": "599421f1-51c1-4653-9d78-b007fcc6861b",
      "metadata": {
        "id": "599421f1-51c1-4653-9d78-b007fcc6861b",
        "outputId": "c1e6f21b-7a5b-4db7-e852-cbc63ea0856d",
        "colab": {
          "base_uri": "https://localhost:8080/"
        }
      },
      "outputs": [
        {
          "output_type": "stream",
          "name": "stdout",
          "text": [
            "Enter the string:vandana\n",
            "v\n"
          ]
        }
      ],
      "source": [
        "# Write a Python program to print the first character of a given string. (User input for the string)\n",
        "string = input(\"Enter the string:\")\n",
        "print(string[0])"
      ]
    },
    {
      "cell_type": "code",
      "execution_count": null,
      "id": "54ee0a5d-415f-40b6-b82e-c0de12a002f9",
      "metadata": {
        "id": "54ee0a5d-415f-40b6-b82e-c0de12a002f9",
        "outputId": "99fab161-fb7e-47c1-d03c-9fb6bac3fe72",
        "colab": {
          "base_uri": "https://localhost:8080/"
        }
      },
      "outputs": [
        {
          "output_type": "stream",
          "name": "stdout",
          "text": [
            "Enter the string:vandanapriya\n",
            "12\n"
          ]
        }
      ],
      "source": [
        "# Write a Python program to print the length of a string. (User input for the string)\n",
        "string = input(\"Enter the string:\")\n",
        "print(len(string))"
      ]
    },
    {
      "cell_type": "code",
      "execution_count": null,
      "id": "65f44c33-618e-4337-a9d1-9de888c93a0a",
      "metadata": {
        "id": "65f44c33-618e-4337-a9d1-9de888c93a0a",
        "outputId": "45d5feec-efbb-4205-e7d5-e112df0f0f32",
        "colab": {
          "base_uri": "https://localhost:8080/"
        }
      },
      "outputs": [
        {
          "output_type": "stream",
          "name": "stdout",
          "text": [
            "Enter the string:chocolate\n",
            "True\n"
          ]
        }
      ],
      "source": [
        "# Write a Python program to check if a given string contains only alphabets.\n",
        "string = input(\"Enter the string:\")\n",
        "print(string.isalpha())"
      ]
    },
    {
      "cell_type": "code",
      "execution_count": null,
      "id": "37463128-2b51-4860-b6bf-40d3c03fbe84",
      "metadata": {
        "id": "37463128-2b51-4860-b6bf-40d3c03fbe84",
        "outputId": "1a9fa262-f545-44f0-f4de-7e1386c31d66",
        "colab": {
          "base_uri": "https://localhost:8080/"
        }
      },
      "outputs": [
        {
          "output_type": "stream",
          "name": "stdout",
          "text": [
            "Enter the string 1:\n",
            "Bhuvana\n",
            "Enter the string 2:\n",
            "Priya\n",
            "BhuvanaPriya\n"
          ]
        }
      ],
      "source": [
        "# Write a Python program to concatenate two strings. (User input for the strings)\n",
        "print(\"Enter the string 1:\")\n",
        "string1 =input()\n",
        "print(\"Enter the string 2:\")\n",
        "string2 =input()\n",
        "print(string1+string2)"
      ]
    },
    {
      "cell_type": "code",
      "execution_count": null,
      "id": "b1c5d364-eccf-473a-b03a-ab15f3e917cf",
      "metadata": {
        "id": "b1c5d364-eccf-473a-b03a-ab15f3e917cf",
        "outputId": "1eab0eba-5200-4e0a-c2c1-1673d8c88a88",
        "colab": {
          "base_uri": "https://localhost:8080/"
        }
      },
      "outputs": [
        {
          "output_type": "stream",
          "name": "stdout",
          "text": [
            "Entrt the string :abc\n",
            "0\n"
          ]
        }
      ],
      "source": [
        "# Write a Python program to find the index of a substring \"abc\" in a string. (User input for the string)\n",
        "string = input(\"Entrt the string :\")\n",
        "print(string.index(\"abc\"))\n"
      ]
    },
    {
      "cell_type": "code",
      "execution_count": null,
      "id": "cc92afd9-ba4b-4934-a79d-f26825b4efc2",
      "metadata": {
        "id": "cc92afd9-ba4b-4934-a79d-f26825b4efc2",
        "outputId": "b9ce0b71-e4b8-4749-fd6a-4ff9402240ae",
        "colab": {
          "base_uri": "https://localhost:8080/"
        }
      },
      "outputs": [
        {
          "output_type": "stream",
          "name": "stdout",
          "text": [
            "Enter the string:eNginEErinG\n",
            "ENGINEERING\n",
            "engineering\n"
          ]
        }
      ],
      "source": [
        "# Write a Python program to convert a string to both uppercase and lowercase. (User input for the string)\n",
        "string = input(\"Enter the string:\")\n",
        "print(string.upper())\n",
        "print(string.lower())\n"
      ]
    },
    {
      "cell_type": "code",
      "execution_count": null,
      "id": "f24f79b3-da8b-44bf-8310-c68442e86e3e",
      "metadata": {
        "id": "f24f79b3-da8b-44bf-8310-c68442e86e3e",
        "outputId": "cc584770-4528-4782-f00e-474a4656e173",
        "colab": {
          "base_uri": "https://localhost:8080/"
        }
      },
      "outputs": [
        {
          "output_type": "stream",
          "name": "stdout",
          "text": [
            "Enter the string:vandanapriya\n",
            "Enter the string:a\n",
            "4\n"
          ]
        }
      ],
      "source": [
        "# Write a Python program to count how many times a particular character appears in a string. (User input for string and character)\n",
        "string = input(\"Enter the string:\")\n",
        "char = input(\"Enter the string:\")\n",
        "print(string.count(char))\n"
      ]
    },
    {
      "cell_type": "code",
      "execution_count": null,
      "id": "f2e8f25c-5c34-44eb-b749-7cc4c100b9a8",
      "metadata": {
        "id": "f2e8f25c-5c34-44eb-b749-7cc4c100b9a8",
        "outputId": "a1bda73d-09f6-4930-d405-254f9972c8cd",
        "colab": {
          "base_uri": "https://localhost:8080/"
        }
      },
      "outputs": [
        {
          "output_type": "stream",
          "name": "stdout",
          "text": [
            "Enter the username:Vandana\n",
            "Hello Vandana Good Morning\n"
          ]
        }
      ],
      "source": [
        "# Write a Python program to take the user's name as input and print a personalized greeting. (Hello, username, Good Morning)\n",
        "username = input(\"Enter the username:\")\n",
        "print(\"Hello\",username,\"Good Morning\")\n",
        "\n"
      ]
    },
    {
      "cell_type": "code",
      "execution_count": null,
      "id": "189296cf-77e6-4f48-b010-77458da5bc9d",
      "metadata": {
        "id": "189296cf-77e6-4f48-b010-77458da5bc9d",
        "outputId": "4c6a6ec1-691b-4a36-a02f-fcd89fafe460",
        "colab": {
          "base_uri": "https://localhost:8080/"
        }
      },
      "outputs": [
        {
          "output_type": "stream",
          "name": "stdout",
          "text": [
            "Enter the number a:16\n",
            "Enter the number b:44\n",
            "Sum: 60\n"
          ]
        }
      ],
      "source": [
        "# Write a Python program to take two numbers as input and print their sum.\n",
        "a = int(input(\"Enter the number a:\",))\n",
        "b = int(input(\"Enter the number b:\",))\n",
        "print(\"Sum:\",a+b)"
      ]
    },
    {
      "cell_type": "code",
      "execution_count": null,
      "id": "0563b26c-0218-47b8-9035-98beb73b0931",
      "metadata": {
        "id": "0563b26c-0218-47b8-9035-98beb73b0931",
        "outputId": "c64158d0-415e-4d9a-9c7f-ed34b07bc933",
        "colab": {
          "base_uri": "https://localhost:8080/"
        }
      },
      "outputs": [
        {
          "output_type": "stream",
          "name": "stdout",
          "text": [
            "Enter the name:vandana priya\n",
            "Enter the age:19\n",
            "my name is vandana priya ,I am 19 years old\n"
          ]
        }
      ],
      "source": [
        "# Write a Python program to format and display a string containing the user's name and age. (User input required)\n",
        "name = input(\"Enter the name:\",)\n",
        "age = input(\"Enter the age:\",)\n",
        "print(\"my name is\",name,\",I am\",age,\"years old\")"
      ]
    },
    {
      "cell_type": "markdown",
      "id": "0bde6e5a-0415-4b06-8b5a-95fa252b34eb",
      "metadata": {
        "id": "0bde6e5a-0415-4b06-8b5a-95fa252b34eb"
      },
      "source": [
        "## Control Structures (Conditionals and Loops)"
      ]
    },
    {
      "cell_type": "code",
      "execution_count": null,
      "id": "aefff5f3-b61e-43e6-a458-7367ef1af9de",
      "metadata": {
        "id": "aefff5f3-b61e-43e6-a458-7367ef1af9de",
        "outputId": "07ff5d1b-4944-47fa-f97e-13fe935cad70",
        "colab": {
          "base_uri": "https://localhost:8080/"
        }
      },
      "outputs": [
        {
          "output_type": "stream",
          "name": "stdout",
          "text": [
            "Enter a number: 44\n",
            "Positive Number\n"
          ]
        }
      ],
      "source": [
        "# Write a Python program that takes a number as input and checks whether it is positive, negative, or zero.\n",
        "num = float(input(\"Enter a number: \"))\n",
        "if num > 0:\n",
        "  print(\"Positive Number\")\n",
        "elif num == 0:\n",
        "    print(\"Zero\")\n",
        "else:\n",
        "  print(\"Negative Number\")\n",
        "\n"
      ]
    },
    {
      "cell_type": "code",
      "execution_count": null,
      "id": "4dc6d14b-6d22-4348-859a-2a03f9be65f7",
      "metadata": {
        "id": "4dc6d14b-6d22-4348-859a-2a03f9be65f7",
        "outputId": "143d8145-67f4-4ee5-e798-d7bc058491f8",
        "colab": {
          "base_uri": "https://localhost:8080/"
        }
      },
      "outputs": [
        {
          "output_type": "stream",
          "name": "stdout",
          "text": [
            "Enter the number 1:123\n",
            "Enter the number 2:231\n",
            "Enter the number 3:312\n",
            "The largest number is 312.0\n"
          ]
        }
      ],
      "source": [
        "# Write a Python program to find the maximum of three numbers. (User input for the numbers)\n",
        "num1 = float(input(\"Enter the number 1:\"))\n",
        "num2 = float(input(\"Enter the number 2:\"))\n",
        "num3 = float(input(\"Enter the number 3:\"))\n",
        "if (num1 >= num2) and (num1 >= num3):\n",
        "  largest = num1\n",
        "elif (num2 >= num1) and (num2 >= num3):\n",
        "  largest = num2\n",
        "else:\n",
        "  largest = num3\n",
        "print(\"The largest number is\",largest)"
      ]
    },
    {
      "cell_type": "code",
      "execution_count": null,
      "id": "3f6d1f45-eb68-4142-89d6-510046f21879",
      "metadata": {
        "id": "3f6d1f45-eb68-4142-89d6-510046f21879",
        "outputId": "2eb3aa48-d84e-4ce0-c5e5-86fde97517f4",
        "colab": {
          "base_uri": "https://localhost:8080/"
        }
      },
      "outputs": [
        {
          "output_type": "stream",
          "name": "stdout",
          "text": [
            "Enter the year:1996\n",
            "year is a leap year\n"
          ]
        }
      ],
      "source": [
        "# Write a Python program to check if a year is a leap year. (User input for the year)\n",
        "year = int(input(\"Enter the year:\"))\n",
        "if year % 4 == 0:\n",
        "  print(\"year is a leap year\")\n",
        "else:\n",
        "  print(\"year is not a leap year:\")"
      ]
    },
    {
      "cell_type": "code",
      "execution_count": null,
      "id": "b6a07105-6fa5-4f70-b64b-ebd66afc3c2b",
      "metadata": {
        "id": "b6a07105-6fa5-4f70-b64b-ebd66afc3c2b"
      },
      "outputs": [],
      "source": [
        "# Write a Python program to check if a number is divisible by both 3 and 5. (User input for the number)\n",
        "num = float(int(input\"Enter the number:\"))\n",
        "\n"
      ]
    },
    {
      "cell_type": "code",
      "execution_count": null,
      "id": "d10c9005-b85d-42f9-81d0-65d149415888",
      "metadata": {
        "id": "d10c9005-b85d-42f9-81d0-65d149415888",
        "colab": {
          "base_uri": "https://localhost:8080/"
        },
        "outputId": "06b5b092-ba64-4d67-ca6b-ec643e884a63"
      },
      "outputs": [
        {
          "output_type": "stream",
          "name": "stdout",
          "text": [
            "The string is a palindrome\n"
          ]
        }
      ],
      "source": [
        "# Write a Python program to check if a string is a palindrome. (User input for the string)\n",
        "my_str = 'madam'\n",
        "my_str = my_str.casefold() # Remove the argument from casefold()\n",
        "rev_str = my_str[::-1]  # Use string slicing to reverse the string\n",
        "if list(my_str) == list(rev_str):\n",
        "  print(\"The string is a palindrome\")\n",
        "else:\n",
        "  print(\"The string is not a palindrome\")"
      ]
    },
    {
      "cell_type": "code",
      "execution_count": null,
      "id": "82d76cdf-efc6-45c6-ab09-9d1f17b3d857",
      "metadata": {
        "id": "82d76cdf-efc6-45c6-ab09-9d1f17b3d857",
        "colab": {
          "base_uri": "https://localhost:8080/"
        },
        "outputId": "2bef908f-388e-44fe-c402-8ad2156c00f8"
      },
      "outputs": [
        {
          "output_type": "stream",
          "name": "stdout",
          "text": [
            "Numbers from 1 to 10 \n",
            "1\n",
            "2\n",
            "3\n",
            "4\n",
            "5\n",
            "6\n",
            "7\n",
            "8\n",
            "9\n",
            "10\n"
          ]
        }
      ],
      "source": [
        "# Write a Python program to print numbers from 1 to 10 using a for loop.\n",
        "input = 1\n",
        "print(\"Numbers from 1 to 10 \")\n",
        "while input <=10:\n",
        "  print(input)\n",
        "  input +=1"
      ]
    },
    {
      "cell_type": "code",
      "execution_count": null,
      "id": "d09e8994-e984-4c12-ab1e-1bfc6938a389",
      "metadata": {
        "id": "d09e8994-e984-4c12-ab1e-1bfc6938a389",
        "colab": {
          "base_uri": "https://localhost:8080/"
        },
        "outputId": "86837af7-b7d5-4a57-f651-a4666b956003"
      },
      "outputs": [
        {
          "output_type": "stream",
          "name": "stdout",
          "text": [
            "All even integers from 1 to 20\n",
            "2\n",
            "4\n",
            "6\n",
            "8\n",
            "10\n",
            "12\n",
            "14\n",
            "16\n",
            "18\n",
            "20\n"
          ]
        }
      ],
      "source": [
        "# Write a Python program to print all even numbers from 1 to 20 using a while loop.\n",
        "input = 1\n",
        "print(\"All even integers from 1 to 20\")\n",
        "while input <= 20:\n",
        "  if input % 2 == 0:\n",
        "    print(input)\n",
        "  input += 1\n",
        "\n",
        "\n"
      ]
    },
    {
      "cell_type": "code",
      "execution_count": 46,
      "id": "c09ca878-167e-49ca-97f0-247a43c9b472",
      "metadata": {
        "id": "c09ca878-167e-49ca-97f0-247a43c9b472",
        "colab": {
          "base_uri": "https://localhost:8080/"
        },
        "outputId": "1280d57a-4e8a-469a-ec0b-2962a1186887"
      },
      "outputs": [
        {
          "output_type": "stream",
          "name": "stdout",
          "text": [
            " Display multiplication table of:11\n",
            "11 x 1 = 11\n",
            "11 x 2 = 22\n",
            "11 x 3 = 33\n",
            "11 x 4 = 44\n",
            "11 x 5 = 55\n",
            "11 x 6 = 66\n",
            "11 x 7 = 77\n",
            "11 x 8 = 88\n",
            "11 x 9 = 99\n",
            "11 x 10 = 110\n"
          ]
        }
      ],
      "source": [
        "# Write a Python program to print the multiplication table of a given number using a for loop. (User input for the number)\n",
        "num = int(__builtins__.input(\" Display multiplication table of:\"))\n",
        "for i in range(1,11):\n",
        "  print(num,\"x\",i,\"=\",num*i)"
      ]
    },
    {
      "cell_type": "code",
      "execution_count": 40,
      "id": "b72118ab-e62d-4af9-bcec-e1cc6af31b25",
      "metadata": {
        "id": "b72118ab-e62d-4af9-bcec-e1cc6af31b25",
        "colab": {
          "base_uri": "https://localhost:8080/"
        },
        "outputId": "49270b49-3285-4134-b6a5-f71f8e853b86"
      },
      "outputs": [
        {
          "output_type": "stream",
          "name": "stdout",
          "text": [
            "enter the value of N:44\n",
            "Sum of first 44 natural numbers is:  990\n"
          ]
        }
      ],
      "source": [
        "# Write a Python program to calculate the sum of all numbers from 1 to n using a while loop. (User input for n)\n",
        "N = int(__builtins__.input(\"enter the value of N:\"))\n",
        "count = N\n",
        "total = 0\n",
        "while count:\n",
        "    total += count\n",
        "    count -= 1\n",
        "print(\"Sum of first\", N, \"natural numbers is: \", total)"
      ]
    },
    {
      "cell_type": "code",
      "execution_count": 48,
      "id": "ae93621f-11a2-40b7-97bc-3002f03ac36a",
      "metadata": {
        "id": "ae93621f-11a2-40b7-97bc-3002f03ac36a",
        "colab": {
          "base_uri": "https://localhost:8080/"
        },
        "outputId": "5e0b00ad-026c-481f-8a70-dd2d234fc9a0"
      },
      "outputs": [
        {
          "output_type": "stream",
          "name": "stdout",
          "text": [
            "Enter a number: 5\n",
            "factorial of  5  is  120\n"
          ]
        }
      ],
      "source": [
        "# Write a Python program to calculate the factorial of a number using a while loop. (User input for the number)\n",
        "user_input = __builtins__.input(\"Enter a number: \")\n",
        "num = int(user_input)\n",
        "factorial = 1\n",
        "i = 1\n",
        "while i <= num:\n",
        "    factorial = factorial * i\n",
        "    i = i + 1\n",
        "print(\"factorial of \", num, \" is \", factorial)"
      ]
    },
    {
      "cell_type": "code",
      "execution_count": 57,
      "id": "68467ccc-d696-4ef1-84c4-164c9d87f755",
      "metadata": {
        "id": "68467ccc-d696-4ef1-84c4-164c9d87f755",
        "colab": {
          "base_uri": "https://localhost:8080/"
        },
        "outputId": "50d90e82-a364-421b-9812-2e4b72f7472f"
      },
      "outputs": [
        {
          "output_type": "stream",
          "name": "stdout",
          "text": [
            "How many terms? 7\n",
            "Fibonacci sequence:\n",
            "0\n",
            "1\n",
            "1\n",
            "2\n",
            "3\n",
            "5\n",
            "8\n"
          ]
        }
      ],
      "source": [
        "# Write a Python program to print the Fibonacci sequence up to n terms. (User input for n)\n",
        "nterms = int(__builtins__.input(\"How many terms? \"))\n",
        "n1, n2 = 0, 1\n",
        "count = 0\n",
        "if nterms <= 0:\n",
        "    print(\"Please enter a positive integer\")\n",
        "elif nterms == 1:\n",
        "    print(\"Fibonacci sequence upto\", nterms, \":\")\n",
        "    print(n1)\n",
        "else:\n",
        "    print(\"Fibonacci sequence:\")\n",
        "    while count < nterms:\n",
        "        print(n1)\n",
        "        nth = n1 + n2\n",
        "        n1 = n2\n",
        "        n2 = nth\n",
        "        count += 1"
      ]
    },
    {
      "cell_type": "code",
      "execution_count": null,
      "id": "5bebd1f3-2606-4102-aa55-01cb1650f632",
      "metadata": {
        "id": "5bebd1f3-2606-4102-aa55-01cb1650f632"
      },
      "outputs": [],
      "source": [
        "# Write a Python program to find all the prime numbers from 1 to 100."
      ]
    },
    {
      "cell_type": "code",
      "execution_count": null,
      "id": "0a3f894e-52ba-4c0b-9158-a70f31f4fd49",
      "metadata": {
        "id": "0a3f894e-52ba-4c0b-9158-a70f31f4fd49"
      },
      "outputs": [],
      "source": [
        "# Write a Python program that breaks out of a loop when a specific condition is met (e.g., when a number greater than 50 is found)."
      ]
    },
    {
      "cell_type": "code",
      "execution_count": null,
      "id": "499b91d0-1f1b-494f-af2b-8cc3a06d90ed",
      "metadata": {
        "id": "499b91d0-1f1b-494f-af2b-8cc3a06d90ed"
      },
      "outputs": [],
      "source": [
        "# Write a Python program to skip even numbers while printing numbers from 1 to 20 using a for loop."
      ]
    },
    {
      "cell_type": "code",
      "execution_count": null,
      "id": "f8ffed70-dfde-4262-a2fd-0d35d69b5fb1",
      "metadata": {
        "id": "f8ffed70-dfde-4262-a2fd-0d35d69b5fb1"
      },
      "outputs": [],
      "source": [
        "# Write a Python program to count how many times a particular character appears in a string using a for loop. (User input for string and character)"
      ]
    },
    {
      "cell_type": "code",
      "execution_count": null,
      "id": "01f976ed-4dcd-4842-ae84-d3b5cc42d011",
      "metadata": {
        "id": "01f976ed-4dcd-4842-ae84-d3b5cc42d011"
      },
      "outputs": [],
      "source": [
        "# Write a Python program to calculate the sum of digits of a number. (User input for the number)"
      ]
    },
    {
      "cell_type": "markdown",
      "id": "fe644fae-f262-48dd-b7ff-08eb747d297e",
      "metadata": {
        "id": "fe644fae-f262-48dd-b7ff-08eb747d297e"
      },
      "source": [
        "## Data Structures (Lists, Tuples, Sets, Dictionaries)"
      ]
    },
    {
      "cell_type": "code",
      "execution_count": null,
      "id": "a0333c26-8e19-4c71-9722-d32cf8625ef6",
      "metadata": {
        "id": "a0333c26-8e19-4c71-9722-d32cf8625ef6"
      },
      "outputs": [],
      "source": [
        "# Write a Python program to create a list of integers and print the sum of the elements."
      ]
    },
    {
      "cell_type": "code",
      "execution_count": null,
      "id": "5a23046d-80b0-4f8d-a02f-4e3d833c0443",
      "metadata": {
        "id": "5a23046d-80b0-4f8d-a02f-4e3d833c0443"
      },
      "outputs": [],
      "source": [
        "# Write a Python program to find the largest element in a list."
      ]
    },
    {
      "cell_type": "code",
      "execution_count": null,
      "id": "9939c2d2-90fd-4e80-81bc-227c72e60e37",
      "metadata": {
        "id": "9939c2d2-90fd-4e80-81bc-227c72e60e37"
      },
      "outputs": [],
      "source": [
        "# Write a Python program to reverse a list."
      ]
    },
    {
      "cell_type": "code",
      "execution_count": null,
      "id": "aa287db8-057b-48d4-a6d8-18cc53eb7178",
      "metadata": {
        "id": "aa287db8-057b-48d4-a6d8-18cc53eb7178"
      },
      "outputs": [],
      "source": [
        "# Write a Python program to remove all occurrences of a specific element from a list."
      ]
    },
    {
      "cell_type": "code",
      "execution_count": null,
      "id": "da9ba926-0ab5-46e9-b66d-128088c3225b",
      "metadata": {
        "id": "da9ba926-0ab5-46e9-b66d-128088c3225b"
      },
      "outputs": [],
      "source": [
        "# Write a Python program to find the index of an element in a list."
      ]
    },
    {
      "cell_type": "code",
      "execution_count": null,
      "id": "9601b6e4-cb90-4e1f-87b4-38ed37076e0d",
      "metadata": {
        "id": "9601b6e4-cb90-4e1f-87b4-38ed37076e0d"
      },
      "outputs": [],
      "source": [
        "# Write a Python program to find if a specific element exists in a list."
      ]
    },
    {
      "cell_type": "code",
      "execution_count": null,
      "id": "9d8e7311-81de-4da2-826c-c4dcad28ed9f",
      "metadata": {
        "id": "9d8e7311-81de-4da2-826c-c4dcad28ed9f"
      },
      "outputs": [],
      "source": [
        "# Write a Python program to remove duplicates from a list."
      ]
    },
    {
      "cell_type": "code",
      "execution_count": null,
      "id": "09e5121b-97b3-42e4-8025-f28f3470681b",
      "metadata": {
        "id": "09e5121b-97b3-42e4-8025-f28f3470681b"
      },
      "outputs": [],
      "source": [
        "# Write a Python program to count the occurrences of an element in a list."
      ]
    },
    {
      "cell_type": "code",
      "execution_count": null,
      "id": "b774b741-e9a6-45db-8f00-e6d9b734d03a",
      "metadata": {
        "id": "b774b741-e9a6-45db-8f00-e6d9b734d03a"
      },
      "outputs": [],
      "source": [
        "# Write a Python program to get the number of even numbers in a list."
      ]
    },
    {
      "cell_type": "code",
      "execution_count": null,
      "id": "5ce4fd2b-ab16-4b40-9ac2-d19c244d8d96",
      "metadata": {
        "id": "5ce4fd2b-ab16-4b40-9ac2-d19c244d8d96"
      },
      "outputs": [],
      "source": [
        "# Write a Python program to create a tuple and print it."
      ]
    },
    {
      "cell_type": "code",
      "execution_count": null,
      "id": "5c04f880-6e96-4ef4-9f4b-df21aae76ff1",
      "metadata": {
        "id": "5c04f880-6e96-4ef4-9f4b-df21aae76ff1"
      },
      "outputs": [],
      "source": [
        "# Write a Python program to convert a tuple to a list and vice versa."
      ]
    },
    {
      "cell_type": "code",
      "execution_count": null,
      "id": "d5192acc-27f3-456e-9c72-3b276a587bf5",
      "metadata": {
        "id": "d5192acc-27f3-456e-9c72-3b276a587bf5"
      },
      "outputs": [],
      "source": [
        "# Write a Python program to find the maximum and minimum values in a tuple."
      ]
    },
    {
      "cell_type": "code",
      "execution_count": null,
      "id": "43f0a340-9407-4302-af7e-4e63db578bbf",
      "metadata": {
        "id": "43f0a340-9407-4302-af7e-4e63db578bbf"
      },
      "outputs": [],
      "source": [
        "# Write a Python program to unpack a tuple into variables."
      ]
    },
    {
      "cell_type": "code",
      "execution_count": null,
      "id": "46e96e29-2157-4b9f-bb24-0bd973eada9f",
      "metadata": {
        "id": "46e96e29-2157-4b9f-bb24-0bd973eada9f"
      },
      "outputs": [],
      "source": [
        "# Write a Python program to add an element to a set and check if an element exists in the set."
      ]
    },
    {
      "cell_type": "code",
      "execution_count": null,
      "id": "d81a803b-fd80-403e-9ae3-680ef44a3d86",
      "metadata": {
        "id": "d81a803b-fd80-403e-9ae3-680ef44a3d86"
      },
      "outputs": [],
      "source": [
        "# Write a Python program to create a dictionary with keys and values and print it."
      ]
    },
    {
      "cell_type": "code",
      "execution_count": null,
      "id": "7432174b-fe75-4371-b23a-e2c5d62edb15",
      "metadata": {
        "id": "7432174b-fe75-4371-b23a-e2c5d62edb15"
      },
      "outputs": [],
      "source": [
        "# Write a Python program to access a dictionary value using a key."
      ]
    },
    {
      "cell_type": "code",
      "execution_count": null,
      "id": "000b3260-d91f-41f2-9729-4b0124f2c4d2",
      "metadata": {
        "id": "000b3260-d91f-41f2-9729-4b0124f2c4d2"
      },
      "outputs": [],
      "source": [
        "# Write a Python program to check if a key exists in a dictionary."
      ]
    },
    {
      "cell_type": "code",
      "execution_count": null,
      "id": "c4b1a942-818e-42c1-b742-1fabe80fca6d",
      "metadata": {
        "id": "c4b1a942-818e-42c1-b742-1fabe80fca6d"
      },
      "outputs": [],
      "source": [
        "# Write a Python program to merge two dictionaries."
      ]
    },
    {
      "cell_type": "code",
      "execution_count": null,
      "id": "a78f1070-3ff3-436a-8391-153f019f53cd",
      "metadata": {
        "id": "a78f1070-3ff3-436a-8391-153f019f53cd"
      },
      "outputs": [],
      "source": [
        "# Write a Python program to remove a key from a dictionary."
      ]
    },
    {
      "cell_type": "code",
      "execution_count": null,
      "id": "fcba0267-8cc4-4e89-9e78-2d820916c177",
      "metadata": {
        "id": "fcba0267-8cc4-4e89-9e78-2d820916c177"
      },
      "outputs": [],
      "source": [
        "# Write a Python program to get the number of keys in a dictionary."
      ]
    },
    {
      "cell_type": "code",
      "execution_count": null,
      "id": "d4c5fd77-9656-43e5-8fe2-be7dca23eb6d",
      "metadata": {
        "id": "d4c5fd77-9656-43e5-8fe2-be7dca23eb6d"
      },
      "outputs": [],
      "source": [
        "# Write a Python program to find the largest and smallest values in a dictionary."
      ]
    },
    {
      "cell_type": "markdown",
      "id": "7830b8cc-9a90-45a2-8e4a-6f3c2b8b133b",
      "metadata": {
        "id": "7830b8cc-9a90-45a2-8e4a-6f3c2b8b133b"
      },
      "source": [
        "## Functions (User-Defined, Arguments, Keyword Arguments, Return Values)"
      ]
    },
    {
      "cell_type": "code",
      "execution_count": null,
      "id": "06a33fba-c6b1-4989-90f4-b647d1fe1627",
      "metadata": {
        "id": "06a33fba-c6b1-4989-90f4-b647d1fe1627"
      },
      "outputs": [],
      "source": [
        "# Write a Python function that returns the square of a number."
      ]
    },
    {
      "cell_type": "code",
      "execution_count": null,
      "id": "91d90a4a-7329-45db-893b-caed8450ba96",
      "metadata": {
        "id": "91d90a4a-7329-45db-893b-caed8450ba96"
      },
      "outputs": [],
      "source": [
        "# Write a Python function that accepts two parameters and returns their sum."
      ]
    },
    {
      "cell_type": "code",
      "execution_count": null,
      "id": "dec2f9a5-90c5-478b-890b-0a506ecf45d3",
      "metadata": {
        "id": "dec2f9a5-90c5-478b-890b-0a506ecf45d3"
      },
      "outputs": [],
      "source": [
        "# Write a Python function to check if a given number is prime."
      ]
    },
    {
      "cell_type": "code",
      "execution_count": null,
      "id": "56337441-68c3-45df-8733-a34cde0533a5",
      "metadata": {
        "id": "56337441-68c3-45df-8733-a34cde0533a5"
      },
      "outputs": [],
      "source": [
        "# Write a Python function to calculate the factorial of a number using recursion."
      ]
    },
    {
      "cell_type": "code",
      "execution_count": null,
      "id": "84a2d010-e7b2-409b-b1f4-99bf806bb77a",
      "metadata": {
        "id": "84a2d010-e7b2-409b-b1f4-99bf806bb77a"
      },
      "outputs": [],
      "source": [
        "# Write a Python function to calculate the power of a number using recursion."
      ]
    },
    {
      "cell_type": "code",
      "execution_count": null,
      "id": "ec44911e-7820-46cc-96a3-4ca443888837",
      "metadata": {
        "id": "ec44911e-7820-46cc-96a3-4ca443888837"
      },
      "outputs": [],
      "source": [
        "# Write a Python function to accept a list and return its length without using the built-in len() function."
      ]
    },
    {
      "cell_type": "code",
      "execution_count": null,
      "id": "fb4c08e1-34f3-487a-a1c6-77cd60fb4836",
      "metadata": {
        "id": "fb4c08e1-34f3-487a-a1c6-77cd60fb4836"
      },
      "outputs": [],
      "source": [
        "# Write a Python function that accepts both positional and keyword arguments and prints the sum of positional arguments."
      ]
    },
    {
      "cell_type": "code",
      "execution_count": null,
      "id": "f4ffc7a8-f579-461c-b507-4085a0477283",
      "metadata": {
        "id": "f4ffc7a8-f579-461c-b507-4085a0477283"
      },
      "outputs": [],
      "source": [
        "# Write a Python function to find the maximum of two numbers using keyword arguments."
      ]
    },
    {
      "cell_type": "code",
      "execution_count": null,
      "id": "0b00c4af-89e0-43e8-a991-1b684d2ce33f",
      "metadata": {
        "id": "0b00c4af-89e0-43e8-a991-1b684d2ce33f"
      },
      "outputs": [],
      "source": [
        "# Write a Python function that accepts a list of numbers and returns their product."
      ]
    },
    {
      "cell_type": "code",
      "execution_count": null,
      "id": "9cd11703-5b48-44fe-af4e-ea906a2762c9",
      "metadata": {
        "id": "9cd11703-5b48-44fe-af4e-ea906a2762c9"
      },
      "outputs": [],
      "source": [
        "# Write a Python function to check if a number is even or odd using the modulo operator."
      ]
    },
    {
      "cell_type": "code",
      "execution_count": null,
      "id": "afbf262e-daed-40a9-827f-82fa60979610",
      "metadata": {
        "id": "afbf262e-daed-40a9-827f-82fa60979610"
      },
      "outputs": [],
      "source": [
        "# Write a Python program to create a list of squares of numbers from 1 to 10 using list comprehension."
      ]
    },
    {
      "cell_type": "code",
      "execution_count": null,
      "id": "7fff76d8-9ba8-4006-9be6-6f7350092d1c",
      "metadata": {
        "id": "7fff76d8-9ba8-4006-9be6-6f7350092d1c"
      },
      "outputs": [],
      "source": [
        "# Write a Python program to filter out all even numbers from a list using list comprehension."
      ]
    },
    {
      "cell_type": "code",
      "execution_count": null,
      "id": "6ae9b8df-38f9-4fd7-bad1-aa7b07cc9271",
      "metadata": {
        "id": "6ae9b8df-38f9-4fd7-bad1-aa7b07cc9271"
      },
      "outputs": [],
      "source": [
        "# Write a Python program to create a list of strings that are longer than 4 characters from a given list of words using list comprehension."
      ]
    },
    {
      "cell_type": "code",
      "execution_count": null,
      "id": "f492c7d4-6ad3-48ab-9b61-232be02aecee",
      "metadata": {
        "id": "f492c7d4-6ad3-48ab-9b61-232be02aecee"
      },
      "outputs": [],
      "source": [
        "# Write a Python program to create a list of all uppercase letters in a string using list comprehension."
      ]
    },
    {
      "cell_type": "code",
      "execution_count": null,
      "id": "929a7f74-1762-4a2a-be23-bacf67ff4d8b",
      "metadata": {
        "id": "929a7f74-1762-4a2a-be23-bacf67ff4d8b"
      },
      "outputs": [],
      "source": [
        "# Write a Python program to generate the first n Fibonacci numbers using list comprehension."
      ]
    },
    {
      "cell_type": "code",
      "execution_count": null,
      "id": "47188bbc-cf62-47bb-a14e-0582c8b5cdd9",
      "metadata": {
        "id": "47188bbc-cf62-47bb-a14e-0582c8b5cdd9"
      },
      "outputs": [],
      "source": [
        "# Write a Python program to create a dictionary where keys are numbers and values are their squares using dictionary comprehension."
      ]
    },
    {
      "cell_type": "code",
      "execution_count": null,
      "id": "3c4637d3-aa85-4b4c-acf3-953c10818bcb",
      "metadata": {
        "id": "3c4637d3-aa85-4b4c-acf3-953c10818bcb"
      },
      "outputs": [],
      "source": [
        "# Write a Python program to create a dictionary from two lists (one for keys and one for values) using dictionary comprehension."
      ]
    },
    {
      "cell_type": "code",
      "execution_count": null,
      "id": "de817d6f-96e7-4346-839e-1ef0df539b6b",
      "metadata": {
        "id": "de817d6f-96e7-4346-839e-1ef0df539b6b"
      },
      "outputs": [],
      "source": [
        "# Write a Python program to create a dictionary of numbers from 1 to 5 and their cubes using dictionary comprehension."
      ]
    },
    {
      "cell_type": "code",
      "execution_count": null,
      "id": "33695301-057e-49a6-9f80-a2f4e3af60ed",
      "metadata": {
        "id": "33695301-057e-49a6-9f80-a2f4e3af60ed"
      },
      "outputs": [],
      "source": [
        "# Write a Python program to square each element of a list using the map() function."
      ]
    },
    {
      "cell_type": "code",
      "execution_count": null,
      "id": "6d4d17f3-c40f-4944-8656-c6416b600361",
      "metadata": {
        "id": "6d4d17f3-c40f-4944-8656-c6416b600361"
      },
      "outputs": [],
      "source": [
        "# Write a Python program to filter all even numbers from a list using the filter() function."
      ]
    },
    {
      "cell_type": "code",
      "execution_count": null,
      "id": "6634ba1f-9f81-475e-b7c4-422d102afb75",
      "metadata": {
        "id": "6634ba1f-9f81-475e-b7c4-422d102afb75"
      },
      "outputs": [],
      "source": [
        "# Write a Python program to use a lambda function to check if a number is divisible by both 3 and 5."
      ]
    },
    {
      "cell_type": "code",
      "execution_count": null,
      "id": "0aac8430-5d77-439d-9a99-9598fadf989c",
      "metadata": {
        "id": "0aac8430-5d77-439d-9a99-9598fadf989c"
      },
      "outputs": [],
      "source": [
        "# Write a Python program to multiply all numbers in a list by 2 using a lambda function inside map()."
      ]
    },
    {
      "cell_type": "code",
      "execution_count": null,
      "id": "e4cd5ba8-c6ec-4f0d-8787-bf0a4b7a2e22",
      "metadata": {
        "id": "e4cd5ba8-c6ec-4f0d-8787-bf0a4b7a2e22"
      },
      "outputs": [],
      "source": [
        "# Write a Python program to remove all occurrences of a specific element from a list."
      ]
    },
    {
      "cell_type": "markdown",
      "id": "caba77c7-93db-4893-8f48-c7365ed5c585",
      "metadata": {
        "id": "caba77c7-93db-4893-8f48-c7365ed5c585"
      },
      "source": [
        "**Note:**\n",
        "- All assignments must follow [PEP 8 – Style Guide for Python Code](https://peps.python.org/pep-0008/) guidelines.\n",
        "- You can add multiple solutions for each question. Create a new code cell next to the question and add it. Shortcut for creating cell : `Alt + Enter`"
      ]
    }
  ],
  "metadata": {
    "kernelspec": {
      "display_name": "Python 3 (ipykernel)",
      "language": "python",
      "name": "python3"
    },
    "language_info": {
      "codemirror_mode": {
        "name": "ipython",
        "version": 3
      },
      "file_extension": ".py",
      "mimetype": "text/x-python",
      "name": "python",
      "nbconvert_exporter": "python",
      "pygments_lexer": "ipython3",
      "version": "3.12.6"
    },
    "colab": {
      "provenance": [],
      "toc_visible": true,
      "include_colab_link": true
    }
  },
  "nbformat": 4,
  "nbformat_minor": 5
}